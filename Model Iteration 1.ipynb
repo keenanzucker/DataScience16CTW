{
 "cells": [
  {
   "cell_type": "markdown",
   "metadata": {},
   "source": [
    "# Model Iteration 1 -- Earthquake Dataset\n",
    "\n",
    "Keenan and James"
   ]
  },
  {
   "cell_type": "code",
   "execution_count": 1,
   "metadata": {
    "collapsed": false
   },
   "outputs": [
    {
     "name": "stdout",
     "output_type": "stream",
     "text": [
      "                       time  latitude  longitude  depth  mag magType  nst  \\\n",
      "0  1901-08-09T18:33:00.000Z        40        144      0  7.5      mw  NaN   \n",
      "1  1901-08-09T13:01:00.000Z       -22        170      0  7.9      mw  NaN   \n",
      "2  1902-04-19T02:23:00.000Z        14        -91      0  7.5      mw  NaN   \n",
      "3  1902-09-23T20:18:00.000Z        16        -93      0  7.8      mw  NaN   \n",
      "4  1902-09-22T01:46:00.000Z        18        146      0  7.5      mw  NaN   \n",
      "\n",
      "   gap  dmin  rms    ...                      updated  \\\n",
      "0  NaN   NaN  NaN    ...     2015-05-13T18:52:41.000Z   \n",
      "1  NaN   NaN  NaN    ...     2015-05-13T18:52:41.000Z   \n",
      "2  NaN   NaN  NaN    ...     2015-05-13T18:52:41.000Z   \n",
      "3  NaN   NaN  NaN    ...     2015-05-13T18:52:41.000Z   \n",
      "4  NaN   NaN  NaN    ...     2015-05-13T18:52:41.000Z   \n",
      "\n",
      "                                       place        type horizontalError  \\\n",
      "0        off the east coast of Honshu, Japan  earthquake             NaN   \n",
      "1           southeast of the Loyalty Islands  earthquake             NaN   \n",
      "2                                  Guatemala  earthquake             NaN   \n",
      "3                            Chiapas, Mexico  earthquake             NaN   \n",
      "4  Alamagan region, Northern Mariana Islands  earthquake             NaN   \n",
      "\n",
      "  depthError  magError  magNst     status  locationSource magSource  \n",
      "0        NaN       NaN     NaN  automatic          iscgem    iscgem  \n",
      "1        NaN       NaN     NaN  automatic          iscgem    iscgem  \n",
      "2        NaN       NaN     NaN  automatic          iscgem    iscgem  \n",
      "3        NaN       NaN     NaN  automatic          iscgem    iscgem  \n",
      "4        NaN       NaN     NaN  automatic          iscgem    iscgem  \n",
      "\n",
      "[5 rows x 22 columns]\n"
     ]
    },
    {
     "name": "stderr",
     "output_type": "stream",
     "text": [
      "/Users/bumho/anaconda/lib/python2.7/site-packages/matplotlib/font_manager.py:273: UserWarning: Matplotlib is building the font cache using fc-list. This may take a moment.\n",
      "  warnings.warn('Matplotlib is building the font cache using fc-list. This may take a moment.')\n"
     ]
    }
   ],
   "source": [
    "import pandas as pd\n",
    "import numpy as np\n",
    "import matplotlib.pyplot as plt\n",
    "import seaborn as sns\n",
    "from sklearn.grid_search import GridSearchCV\n",
    "from sklearn import svm\n",
    "from sklearn.naive_bayes import MultinomialNB\n",
    "from sklearn import cross_validation\n",
    "from sklearn.cross_validation import train_test_split\n",
    "from sklearn.ensemble import RandomForestClassifier, GradientBoostingClassifier\n",
    "from sklearn.linear_model import LinearRegression, LogisticRegression, LogisticRegressionCV\n",
    "from sklearn.feature_extraction.text import CountVectorizer, TfidfVectorizer, TfidfTransformer\n",
    "from sklearn.pipeline import Pipeline\n",
    "from sklearn.naive_bayes import GaussianNB\n",
    "from sklearn.svm import LinearSVC\n",
    "from sklearn.multiclass import OneVsRestClassifier, OneVsOneClassifier\n",
    "%matplotlib inline\n",
    "\n",
    "quakes = pd.read_csv(\"./downloaded/data.csv\")\n",
    "\n",
    "print quakes.head()"
   ]
  },
  {
   "cell_type": "code",
   "execution_count": 11,
   "metadata": {
    "collapsed": false
   },
   "outputs": [],
   "source": [
    "from sklearn.cross_validation import train_test_split\n",
    "\n",
    "def cross_validate(model, X, y, cv=3):\n",
    "    return cross_validation.cross_val_score(model, X, y, cv=cv).mean()\n",
    "\n",
    "def train_test_splitter(model, X, y, train_size=0.5):\n",
    "    X_train, X_test, y_train, y_test = train_test_split(X, y, train_size=train_size)\n",
    "    model.fit(X_train, y_train)\n",
    "    return X_train, X_test, y_train, y_test, model"
   ]
  },
  {
   "cell_type": "code",
   "execution_count": 4,
   "metadata": {
    "collapsed": true
   },
   "outputs": [],
   "source": [
    "def magclassify(mag):\n",
    "    if mag < 4:\n",
    "        return 0\n",
    "    elif mag < 5:\n",
    "        return 1\n",
    "    elif mag < 6:\n",
    "        return 2\n",
    "    elif mag < 7:\n",
    "        return 3\n",
    "    elif mag < 8:\n",
    "        return 4\n",
    "    elif mag >= 8:\n",
    "        return 5\n",
    "# \"minor\" \"light\" \"moderate\" \"strong\" \"major\" \"great\""
   ]
  },
  {
   "cell_type": "code",
   "execution_count": 5,
   "metadata": {
    "collapsed": false
   },
   "outputs": [
    {
     "data": {
      "text/plain": [
       "0         4\n",
       "1         4\n",
       "2         4\n",
       "3         4\n",
       "4         4\n",
       "5         4\n",
       "6         4\n",
       "7         4\n",
       "8         4\n",
       "9         4\n",
       "10        4\n",
       "11        3\n",
       "12        4\n",
       "13        5\n",
       "14        5\n",
       "15        4\n",
       "16        3\n",
       "17        5\n",
       "18        4\n",
       "19        2\n",
       "20        3\n",
       "21        5\n",
       "22        3\n",
       "23        5\n",
       "24        5\n",
       "25        4\n",
       "26        4\n",
       "27        4\n",
       "28        3\n",
       "29        3\n",
       "         ..\n",
       "686938    0\n",
       "686939    1\n",
       "686940    1\n",
       "686941    0\n",
       "686942    1\n",
       "686943    0\n",
       "686944    1\n",
       "686945    1\n",
       "686946    0\n",
       "686947    0\n",
       "686948    1\n",
       "686949    0\n",
       "686950    0\n",
       "686951    0\n",
       "686952    0\n",
       "686953    1\n",
       "686954    0\n",
       "686955    1\n",
       "686956    1\n",
       "686957    1\n",
       "686958    2\n",
       "686959    1\n",
       "686960    0\n",
       "686961    1\n",
       "686962    1\n",
       "686963    1\n",
       "686964    1\n",
       "686965    0\n",
       "686966    1\n",
       "686967    2\n",
       "Name: magClassified, dtype: int64"
      ]
     },
     "execution_count": 5,
     "metadata": {},
     "output_type": "execute_result"
    }
   ],
   "source": [
    "quakes[\"magClassified\"] = quakes[\"mag\"].apply(magclassify)\n",
    "quakes[\"magClassified\"]"
   ]
  },
  {
   "cell_type": "code",
   "execution_count": 6,
   "metadata": {
    "collapsed": false
   },
   "outputs": [
    {
     "data": {
      "text/plain": [
       "time                    0\n",
       "latitude                0\n",
       "longitude               0\n",
       "depth                   9\n",
       "mag                     0\n",
       "magType               132\n",
       "nst                318203\n",
       "gap                321998\n",
       "dmin               605675\n",
       "rms                203437\n",
       "net                     0\n",
       "id                      0\n",
       "updated                 0\n",
       "place                  13\n",
       "type                    0\n",
       "horizontalError    609417\n",
       "depthError         459109\n",
       "magError           607459\n",
       "magNst             304558\n",
       "status                  0\n",
       "locationSource          0\n",
       "magSource               0\n",
       "magClassified           0\n",
       "dtype: int64"
      ]
     },
     "execution_count": 6,
     "metadata": {},
     "output_type": "execute_result"
    }
   ],
   "source": [
    "quakes.isnull().sum()"
   ]
  },
  {
   "cell_type": "code",
   "execution_count": 7,
   "metadata": {
    "collapsed": false
   },
   "outputs": [],
   "source": [
    "quakes[\"depth\"] = quakes[\"depth\"].fillna(quakes[\"depth\"].median())"
   ]
  },
  {
   "cell_type": "code",
   "execution_count": 47,
   "metadata": {
    "collapsed": false
   },
   "outputs": [
    {
     "data": {
      "text/plain": [
       "0.7834717192067171"
      ]
     },
     "execution_count": 47,
     "metadata": {},
     "output_type": "execute_result"
    }
   ],
   "source": [
    "logistic = LogisticRegression()\n",
    "alg = RandomForestClassifier(random_state=1, n_estimators=10, min_samples_split=4, min_samples_leaf=8)\n",
    "predictors = [\"latitude\", \"longitude\", \"depth\"]\n",
    "X_train, X_test, y_train, y_test = train_test_split(quakes[predictors], quakes.magClassified, train_size=.5)\n",
    "alg.fit(X_train, y_train)\n",
    "alg.score(X_test, y_test)"
   ]
  },
  {
   "cell_type": "code",
   "execution_count": 15,
   "metadata": {
    "collapsed": false
   },
   "outputs": [
    {
     "data": {
      "text/plain": [
       "0.70110986538118569"
      ]
     },
     "execution_count": 15,
     "metadata": {},
     "output_type": "execute_result"
    }
   ],
   "source": [
    "predictors = [\"latitude\", \"longitude\", \"depth\"]\n",
    "cross_validate(alg, quakes[predictors], quakes[\"magClassified\"])"
   ]
  },
  {
   "cell_type": "code",
   "execution_count": 17,
   "metadata": {
    "collapsed": false
   },
   "outputs": [
    {
     "data": {
      "text/plain": [
       "array(['mw', 'mh', 'ml', 'ms', 'mb', 'lg', nan, 'md', 'mc', 'mun', 'mblg',\n",
       "       'me', 'm', 'mwc', 'mwb', 'mwr', 'Mw', 'mww', 'Ml', 'H', 'mlg', 'Md',\n",
       "       'Mb', 'mb_lg', 'MbLg', 'ms_20', 'mlr'], dtype=object)"
      ]
     },
     "execution_count": 17,
     "metadata": {},
     "output_type": "execute_result"
    }
   ],
   "source": [
    "quakes.magType.unique()"
   ]
  },
  {
   "cell_type": "code",
   "execution_count": 29,
   "metadata": {
    "collapsed": false
   },
   "outputs": [],
   "source": [
    "def classifyMagType(magType):\n",
    "    duration = [\"Md\", \"md\"]\n",
    "    local = [\"ml\"]\n",
    "    shortPS = [\"mb_lg\", \"lg\", \"mblg\"]\n",
    "    shortPeriodWave = [\"mb\"]\n",
    "    twenty = [\"ms\", \"ms_20\"]\n",
    "    moment = [\"mi\", \"mwp\"]\n",
    "    energy = [\"me\"]\n",
    "    \n",
    "    mw = [\"mw\", \"mwb\", \"mwc\",\"mwr\",\"mww\"]\n",
    "    magType = str(magType).lower()\n",
    "    if magType in duration:\n",
    "        return 0\n",
    "    elif magType in local:\n",
    "        return 1\n",
    "    elif magType in shortPS:\n",
    "        return 2\n",
    "    elif magType in shortPeriodWave:\n",
    "        return 3\n",
    "    elif magType in twenty:\n",
    "        return 4\n",
    "    elif magType in moment:\n",
    "        return 5\n",
    "    elif magType in energy:\n",
    "        return 6\n",
    "    elif magType in mw:\n",
    "        return 7\n",
    "    else:\n",
    "        return 8\n",
    "    "
   ]
  },
  {
   "cell_type": "code",
   "execution_count": 30,
   "metadata": {
    "collapsed": false
   },
   "outputs": [
    {
     "data": {
      "text/plain": [
       "3    337271\n",
       "1    156982\n",
       "0     94543\n",
       "7     48549\n",
       "8     37633\n",
       "2      7218\n",
       "4      4756\n",
       "6        16\n",
       "Name: magTypeClassified, dtype: int64"
      ]
     },
     "execution_count": 30,
     "metadata": {},
     "output_type": "execute_result"
    }
   ],
   "source": [
    "quakes[\"magTypeClassified\"] =  quakes[\"magType\"].apply(classifyMagType)\n",
    "quakes[\"magTypeClassified\"].value_counts()"
   ]
  },
  {
   "cell_type": "code",
   "execution_count": 38,
   "metadata": {
    "collapsed": false
   },
   "outputs": [
    {
     "data": {
      "text/plain": [
       "0.8248768501589594"
      ]
     },
     "execution_count": 38,
     "metadata": {},
     "output_type": "execute_result"
    }
   ],
   "source": [
    "predictors = [\"latitude\", \"longitude\", \"depth\", \"magTypeClassified\"]\n",
    "X_train, X_test, y_train, y_test = train_test_split(quakes[predictors], quakes.magClassified, train_size=.5)\n",
    "alg.fit(X_train, y_train)\n",
    "alg.score(X_test, y_test)"
   ]
  },
  {
   "cell_type": "code",
   "execution_count": 39,
   "metadata": {
    "collapsed": false
   },
   "outputs": [],
   "source": [
    "def parse_date(Dates):\n",
    "    return int(Dates[0:4]), int(Dates[5:7]), int(Dates[8:10]), int(Dates[11:13])"
   ]
  },
  {
   "cell_type": "code",
   "execution_count": 44,
   "metadata": {
    "collapsed": true
   },
   "outputs": [],
   "source": [
    "quakes[\"year\"] = quakes.time.apply(lambda x: parse_date(x)[0])\n",
    "quakes[\"month\"] = quakes.time.apply(lambda x: parse_date(x)[1])\n",
    "quakes[\"hour\"] = quakes.time.apply(lambda x: parse_date(x)[3])"
   ]
  },
  {
   "cell_type": "code",
   "execution_count": 48,
   "metadata": {
    "collapsed": false
   },
   "outputs": [
    {
     "data": {
      "text/plain": [
       "0.84566966729163517"
      ]
     },
     "execution_count": 48,
     "metadata": {},
     "output_type": "execute_result"
    }
   ],
   "source": [
    "predictors = [\"latitude\", \"longitude\", \"depth\", \"magTypeClassified\", \"hour\", \"month\",\"hour\"]\n",
    "X_train, X_test, y_train, y_test = train_test_split(quakes[predictors], quakes.magClassified, train_size=.5)\n",
    "alg.fit(X_train, y_train)\n",
    "alg.score(X_test, y_test)"
   ]
  },
  {
   "cell_type": "code",
   "execution_count": 49,
   "metadata": {
    "collapsed": false
   },
   "outputs": [
    {
     "data": {
      "text/plain": [
       "0.72623761223230199"
      ]
     },
     "execution_count": 49,
     "metadata": {},
     "output_type": "execute_result"
    }
   ],
   "source": [
    "logistic = LogisticRegression(multi_class='multinomial', solver='newton-cg')\n",
    "logistic.fit(X_train, y_train)\n",
    "logistic.score(X_test, y_test)"
   ]
  },
  {
   "cell_type": "code",
   "execution_count": 60,
   "metadata": {
    "collapsed": false
   },
   "outputs": [
    {
     "name": "stdout",
     "output_type": "stream",
     "text": [
      "earthquake             682696\n",
      "quarry blast             2355\n",
      "nuclear explosion        1075\n",
      "mining explosion          507\n",
      "rock burst                163\n",
      "explosion                 104\n",
      "quarry                     35\n",
      "mine collapse              20\n",
      "sonic boom                 10\n",
      "acoustic noise              1\n",
      "anthropogenic event         1\n",
      "landslide                   1\n",
      "Name: type, dtype: int64\n"
     ]
    },
    {
     "data": {
      "text/plain": [
       "0         1\n",
       "1         1\n",
       "2         1\n",
       "3         1\n",
       "4         1\n",
       "5         1\n",
       "6         1\n",
       "7         1\n",
       "8         1\n",
       "9         1\n",
       "10        1\n",
       "11        1\n",
       "12        1\n",
       "13        1\n",
       "14        1\n",
       "15        1\n",
       "16        1\n",
       "17        1\n",
       "18        1\n",
       "19        1\n",
       "20        1\n",
       "21        1\n",
       "22        1\n",
       "23        1\n",
       "24        1\n",
       "25        1\n",
       "26        1\n",
       "27        1\n",
       "28        1\n",
       "29        1\n",
       "         ..\n",
       "686938    1\n",
       "686939    1\n",
       "686940    1\n",
       "686941    1\n",
       "686942    1\n",
       "686943    1\n",
       "686944    1\n",
       "686945    1\n",
       "686946    1\n",
       "686947    1\n",
       "686948    1\n",
       "686949    1\n",
       "686950    1\n",
       "686951    1\n",
       "686952    1\n",
       "686953    1\n",
       "686954    1\n",
       "686955    1\n",
       "686956    1\n",
       "686957    1\n",
       "686958    1\n",
       "686959    1\n",
       "686960    1\n",
       "686961    1\n",
       "686962    1\n",
       "686963    1\n",
       "686964    1\n",
       "686965    1\n",
       "686966    1\n",
       "686967    1\n",
       "Name: earthquake, dtype: int64"
      ]
     },
     "execution_count": 60,
     "metadata": {},
     "output_type": "execute_result"
    }
   ],
   "source": [
    "print quakes[\"type\"].value_counts()\n",
    "quakes[\"earthquake\"] = quakes[\"type\"].apply(lambda x: 1 if x == \"earthquake\" else 0)\n",
    "quakes[\"earthquake\"]"
   ]
  },
  {
   "cell_type": "code",
   "execution_count": 61,
   "metadata": {
    "collapsed": false
   },
   "outputs": [
    {
     "data": {
      "text/plain": [
       "0.99876267890207404"
      ]
     },
     "execution_count": 61,
     "metadata": {},
     "output_type": "execute_result"
    }
   ],
   "source": [
    "predictors = [\"latitude\", \"longitude\", \"depth\", \"magTypeClassified\", \"hour\", \"month\",\"hour\"]\n",
    "X_train, X_test, y_train, y_test = train_test_split(quakes[predictors], quakes.earthquake, train_size=.5)\n",
    "alg.fit(X_train, y_train)\n",
    "alg.score(X_test, y_test)"
   ]
  },
  {
   "cell_type": "code",
   "execution_count": 63,
   "metadata": {
    "collapsed": false
   },
   "outputs": [
    {
     "name": "stderr",
     "output_type": "stream",
     "text": [
      "/Users/bumho/anaconda/lib/python2.7/site-packages/sklearn/utils/validation.py:386: DeprecationWarning: Passing 1d arrays as data is deprecated in 0.17 and willraise ValueError in 0.19. Reshape your data either using X.reshape(-1, 1) if your data has a single feature or X.reshape(1, -1) if it contains a single sample.\n",
      "  DeprecationWarning)\n"
     ]
    },
    {
     "data": {
      "text/plain": [
       "array([1])"
      ]
     },
     "execution_count": 63,
     "metadata": {},
     "output_type": "execute_result"
    }
   ],
   "source": [
    "alg.predict([3,4,4,5,6,7,8])"
   ]
  }
 ],
 "metadata": {
  "kernelspec": {
   "display_name": "Python 2",
   "language": "python",
   "name": "python2"
  },
  "language_info": {
   "codemirror_mode": {
    "name": "ipython",
    "version": 2
   },
   "file_extension": ".py",
   "mimetype": "text/x-python",
   "name": "python",
   "nbconvert_exporter": "python",
   "pygments_lexer": "ipython2",
   "version": "2.7.11"
  }
 },
 "nbformat": 4,
 "nbformat_minor": 0
}
