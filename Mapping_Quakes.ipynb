{
 "cells": [
  {
   "cell_type": "markdown",
   "metadata": {},
   "source": [
    "# Earthquake Mapping Over Last 116 Years\n",
    "\n",
    "Keenan Zucker and James Jang"
   ]
  },
  {
   "cell_type": "code",
   "execution_count": 2,
   "metadata": {
    "collapsed": false
   },
   "outputs": [],
   "source": [
    "import pandas as pd\n",
    "import numpy as np\n",
    "import matplotlib.pyplot as plt\n",
    "import seaborn as sns\n",
    "%matplotlib inline\n",
    "\n",
    "quakes = pd.read_csv(\"./data/data.csv\")\n"
   ]
  },
  {
   "cell_type": "code",
   "execution_count": 4,
   "metadata": {
    "collapsed": true
   },
   "outputs": [],
   "source": [
    "def get_marker_color(magnitude):\n",
    "    if magnitude < 4.0:\n",
    "        return ('wo') # minor\n",
    "    elif magnitude < 5.0:\n",
    "        return ('go') # light\n",
    "    elif magnitude < 5.0:\n",
    "        return ('yo') # moderate\n",
    "    elif magnitude < 6.0:\n",
    "        return ('mo') # strong\n",
    "    elif magnitude < 7.0:\n",
    "        return ('ro') # major\n",
    "    else:\n",
    "        return ('ko') # great\n",
    "    "
   ]
  },
  {
   "cell_type": "code",
   "execution_count": null,
   "metadata": {
    "collapsed": true
   },
   "outputs": [],
   "source": [
    "from mpl_toolkits.basemap import Basemap\n",
    "\n",
    "\n",
    "plt.figure(figsize=(16,12))\n",
    "\n",
    "my_map = Basemap(projection='robin', lat_0=0, lon_0=-100,\n",
    "              resolution='l', area_thresh=1000.0)\n",
    "\n",
    "lats = np.array(quakes.latitude)\n",
    "longs = np.array(quakes.longitude)\n",
    "mags = np.array(quakes.mag)\n",
    "# depths = np.array(quakes.depth)\n",
    "\n",
    "my_map.drawcoastlines()\n",
    "my_map.drawcountries()\n",
    "my_map.drawmapboundary()\n",
    "my_map.drawmeridians(np.arange(0, 360, 30))\n",
    "my_map.drawparallels(np.arange(-90, 90, 30))\n",
    "\n",
    "for lon, lat, mag in zip(longs, lats, mags):\n",
    "    x,y = my_map(lon, lat)\n",
    "    marker_string = get_marker_color(mag)\n",
    "    my_map.plot(x, y, marker_string, markersize=3)\n",
    "    \n",
    "plt.title('Earthquakes In The Last 30 Days')\n",
    "plt.show()"
   ]
  },
  {
   "cell_type": "code",
   "execution_count": null,
   "metadata": {
    "collapsed": true
   },
   "outputs": [],
   "source": []
  }
 ],
 "metadata": {
  "kernelspec": {
   "display_name": "Python 2",
   "language": "python",
   "name": "python2"
  },
  "language_info": {
   "codemirror_mode": {
    "name": "ipython",
    "version": 2
   },
   "file_extension": ".py",
   "mimetype": "text/x-python",
   "name": "python",
   "nbconvert_exporter": "python",
   "pygments_lexer": "ipython2",
   "version": "2.7.10"
  }
 },
 "nbformat": 4,
 "nbformat_minor": 0
}
