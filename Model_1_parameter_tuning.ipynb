{
 "cells": [
  {
   "cell_type": "markdown",
   "metadata": {},
   "source": [
    "# Model Iteration 1 -- Earthquake Dataset\n",
    "\n",
    "Keenan and James"
   ]
  },
  {
   "cell_type": "code",
   "execution_count": 1,
   "metadata": {
    "collapsed": false
   },
   "outputs": [
    {
     "name": "stdout",
     "output_type": "stream",
     "text": [
      "                       time  latitude  longitude  depth  mag magType  nst  \\\n",
      "0  1901-08-09T18:33:00.000Z        40        144      0  7.5      mw  NaN   \n",
      "1  1901-08-09T13:01:00.000Z       -22        170      0  7.9      mw  NaN   \n",
      "2  1902-04-19T02:23:00.000Z        14        -91      0  7.5      mw  NaN   \n",
      "3  1902-09-23T20:18:00.000Z        16        -93      0  7.8      mw  NaN   \n",
      "4  1902-09-22T01:46:00.000Z        18        146      0  7.5      mw  NaN   \n",
      "\n",
      "   gap  dmin  rms    ...                      updated  \\\n",
      "0  NaN   NaN  NaN    ...     2015-05-13T18:52:41.000Z   \n",
      "1  NaN   NaN  NaN    ...     2015-05-13T18:52:41.000Z   \n",
      "2  NaN   NaN  NaN    ...     2015-05-13T18:52:41.000Z   \n",
      "3  NaN   NaN  NaN    ...     2015-05-13T18:52:41.000Z   \n",
      "4  NaN   NaN  NaN    ...     2015-05-13T18:52:41.000Z   \n",
      "\n",
      "                                       place        type horizontalError  \\\n",
      "0        off the east coast of Honshu, Japan  earthquake             NaN   \n",
      "1           southeast of the Loyalty Islands  earthquake             NaN   \n",
      "2                                  Guatemala  earthquake             NaN   \n",
      "3                            Chiapas, Mexico  earthquake             NaN   \n",
      "4  Alamagan region, Northern Mariana Islands  earthquake             NaN   \n",
      "\n",
      "  depthError  magError  magNst     status  locationSource magSource  \n",
      "0        NaN       NaN     NaN  automatic          iscgem    iscgem  \n",
      "1        NaN       NaN     NaN  automatic          iscgem    iscgem  \n",
      "2        NaN       NaN     NaN  automatic          iscgem    iscgem  \n",
      "3        NaN       NaN     NaN  automatic          iscgem    iscgem  \n",
      "4        NaN       NaN     NaN  automatic          iscgem    iscgem  \n",
      "\n",
      "[5 rows x 22 columns]\n"
     ]
    }
   ],
   "source": [
    "import pandas as pd\n",
    "import numpy as np\n",
    "import matplotlib.pyplot as plt\n",
    "import seaborn as sns\n",
    "from sklearn import cross_validation\n",
    "from sklearn.cross_validation import train_test_split\n",
    "from sklearn.ensemble import RandomForestClassifier, GradientBoostingClassifier\n",
    "from sklearn.linear_model import LinearRegression, LogisticRegression, LogisticRegressionCV\n",
    "\n",
    "%matplotlib inline\n",
    "\n",
    "quakes = pd.read_csv(\"./data/data.csv\")\n",
    "\n",
    "print quakes.head()"
   ]
  },
  {
   "cell_type": "code",
   "execution_count": null,
   "metadata": {
    "collapsed": true
   },
   "outputs": [],
   "source": []
  },
  {
   "cell_type": "markdown",
   "metadata": {},
   "source": [
    "We wrote some helper functions that will help us test the progress we have made in the models quickly."
   ]
  },
  {
   "cell_type": "code",
   "execution_count": 2,
   "metadata": {
    "collapsed": false
   },
   "outputs": [],
   "source": [
    "from sklearn.cross_validation import train_test_split\n",
    "\n",
    "def cross_validate(model, X, y, cv=3):\n",
    "    return cross_validation.cross_val_score(model, X, y, cv=cv).mean()\n",
    "\n",
    "def train_test_splitter(model, X, y, train_size=0.5):\n",
    "    X_train, X_test, y_train, y_test = train_test_split(X, y, train_size=train_size)\n",
    "    model.fit(X_train, y_train)\n",
    "    return X_train, X_test, y_train, y_test, model"
   ]
  },
  {
   "cell_type": "markdown",
   "metadata": {},
   "source": [
    "### Feature engineering\n",
    "\n",
    "Because our magnitude is a continuous variable, it makes it hard to predict. We decided to categorize them into standard scales provided by USGS [here](http://www.geo.mtu.edu/UPSeis/magnitude.html). We thought this categorization would simplify the problem and makes sense for making predictions because it will be very hard to give an exact magnitude prediction."
   ]
  },
  {
   "cell_type": "code",
   "execution_count": 3,
   "metadata": {
    "collapsed": true
   },
   "outputs": [],
   "source": [
    "def magclassify(mag):\n",
    "    if mag < 4:\n",
    "        return 0\n",
    "    elif mag < 5:\n",
    "        return 1\n",
    "    elif mag < 6:\n",
    "        return 2\n",
    "    elif mag < 7:\n",
    "        return 3\n",
    "    elif mag < 8:\n",
    "        return 4\n",
    "    elif mag >= 8:\n",
    "        return 5\n",
    "# \"minor\" \"light\" \"moderate\" \"strong\" \"major\" \"great\""
   ]
  },
  {
   "cell_type": "code",
   "execution_count": 4,
   "metadata": {
    "collapsed": false
   },
   "outputs": [
    {
     "data": {
      "text/plain": [
       "0         4\n",
       "1         4\n",
       "2         4\n",
       "3         4\n",
       "4         4\n",
       "5         4\n",
       "6         4\n",
       "7         4\n",
       "8         4\n",
       "9         4\n",
       "10        4\n",
       "11        3\n",
       "12        4\n",
       "13        5\n",
       "14        5\n",
       "15        4\n",
       "16        3\n",
       "17        5\n",
       "18        4\n",
       "19        2\n",
       "20        3\n",
       "21        5\n",
       "22        3\n",
       "23        5\n",
       "24        5\n",
       "25        4\n",
       "26        4\n",
       "27        4\n",
       "28        3\n",
       "29        3\n",
       "         ..\n",
       "686938    0\n",
       "686939    1\n",
       "686940    1\n",
       "686941    0\n",
       "686942    1\n",
       "686943    0\n",
       "686944    1\n",
       "686945    1\n",
       "686946    0\n",
       "686947    0\n",
       "686948    1\n",
       "686949    0\n",
       "686950    0\n",
       "686951    0\n",
       "686952    0\n",
       "686953    1\n",
       "686954    0\n",
       "686955    1\n",
       "686956    1\n",
       "686957    1\n",
       "686958    2\n",
       "686959    1\n",
       "686960    0\n",
       "686961    1\n",
       "686962    1\n",
       "686963    1\n",
       "686964    1\n",
       "686965    0\n",
       "686966    1\n",
       "686967    2\n",
       "Name: magClassified, dtype: int64"
      ]
     },
     "execution_count": 4,
     "metadata": {},
     "output_type": "execute_result"
    }
   ],
   "source": [
    "quakes[\"magClassified\"] = quakes[\"mag\"].apply(magclassify)\n",
    "quakes[\"magClassified\"]"
   ]
  },
  {
   "cell_type": "code",
   "execution_count": 5,
   "metadata": {
    "collapsed": false
   },
   "outputs": [
    {
     "data": {
      "text/plain": [
       "time                    0\n",
       "latitude                0\n",
       "longitude               0\n",
       "depth                   9\n",
       "mag                     0\n",
       "magType               132\n",
       "nst                318203\n",
       "gap                321998\n",
       "dmin               605675\n",
       "rms                203437\n",
       "net                     0\n",
       "id                      0\n",
       "updated                 0\n",
       "place                  13\n",
       "type                    0\n",
       "horizontalError    609417\n",
       "depthError         459109\n",
       "magError           607459\n",
       "magNst             304558\n",
       "status                  0\n",
       "locationSource          0\n",
       "magSource               0\n",
       "magClassified           0\n",
       "dtype: int64"
      ]
     },
     "execution_count": 5,
     "metadata": {},
     "output_type": "execute_result"
    }
   ],
   "source": [
    "quakes.isnull().sum()"
   ]
  },
  {
   "cell_type": "markdown",
   "metadata": {},
   "source": [
    "We found that there were sum null values in the depth so we decided to fill it with the median since we only have 9 points missing."
   ]
  },
  {
   "cell_type": "code",
   "execution_count": 6,
   "metadata": {
    "collapsed": false
   },
   "outputs": [],
   "source": [
    "quakes[\"depth\"] = quakes[\"depth\"].fillna(quakes[\"depth\"].median())"
   ]
  },
  {
   "cell_type": "markdown",
   "metadata": {},
   "source": [
    "We used two simple models of logisticRegression and RandomForestClassifier to start our training."
   ]
  },
  {
   "cell_type": "code",
   "execution_count": 7,
   "metadata": {
    "collapsed": false
   },
   "outputs": [
    {
     "data": {
      "text/plain": [
       "0.7833261520187258"
      ]
     },
     "execution_count": 7,
     "metadata": {},
     "output_type": "execute_result"
    }
   ],
   "source": [
    "logistic = LogisticRegression()\n",
    "alg = RandomForestClassifier(random_state=1, n_estimators=10, min_samples_split=4, min_samples_leaf=8)\n",
    "predictors = [\"latitude\", \"longitude\", \"depth\"]\n",
    "X_train, X_test, y_train, y_test = train_test_split(quakes[predictors], quakes.magClassified, train_size=.5)\n",
    "alg.fit(X_train, y_train)\n",
    "alg.score(X_test, y_test)"
   ]
  },
  {
   "cell_type": "code",
   "execution_count": 8,
   "metadata": {
    "collapsed": false
   },
   "outputs": [
    {
     "data": {
      "text/plain": [
       "0.73833134776031006"
      ]
     },
     "execution_count": 8,
     "metadata": {},
     "output_type": "execute_result"
    }
   ],
   "source": [
    "predictors = [\"latitude\", \"longitude\", \"depth\"]\n",
    "cross_validate(alg, quakes[predictors], quakes[\"magClassified\"])"
   ]
  },
  {
   "cell_type": "markdown",
   "metadata": {},
   "source": [
    "Another feature we thought would be interesting was classifying magnitude type. We were able to classify the encoding with the following look up there [here](http://earthquake.usgs.gov/earthquakes/eventpage/terms.php)."
   ]
  },
  {
   "cell_type": "code",
   "execution_count": 9,
   "metadata": {
    "collapsed": false
   },
   "outputs": [
    {
     "data": {
      "text/plain": [
       "array(['mw', 'mh', 'ml', 'ms', 'mb', 'lg', nan, 'md', 'mc', 'mun', 'mblg',\n",
       "       'me', 'm', 'mwc', 'mwb', 'mwr', 'Mw', 'mww', 'Ml', 'H', 'mlg', 'Md',\n",
       "       'Mb', 'mb_lg', 'MbLg', 'ms_20', 'mlr'], dtype=object)"
      ]
     },
     "execution_count": 9,
     "metadata": {},
     "output_type": "execute_result"
    }
   ],
   "source": [
    "quakes.magType.unique()"
   ]
  },
  {
   "cell_type": "code",
   "execution_count": 10,
   "metadata": {
    "collapsed": false
   },
   "outputs": [],
   "source": [
    "def classifyMagType(magType):\n",
    "    duration = [\"Md\", \"md\"]\n",
    "    local = [\"ml\"]\n",
    "    shortPS = [\"mb_lg\", \"lg\", \"mblg\"]\n",
    "    shortPeriodWave = [\"mb\"]\n",
    "    twenty = [\"ms\", \"ms_20\"]\n",
    "    moment = [\"mi\", \"mwp\"]\n",
    "    energy = [\"me\"]\n",
    "    \n",
    "    mw = [\"mw\", \"mwb\", \"mwc\",\"mwr\",\"mww\"]\n",
    "    magType = str(magType).lower()\n",
    "    if magType in duration:\n",
    "        return 0\n",
    "    elif magType in local:\n",
    "        return 1\n",
    "    elif magType in shortPS:\n",
    "        return 2\n",
    "    elif magType in shortPeriodWave:\n",
    "        return 3\n",
    "    elif magType in twenty:\n",
    "        return 4\n",
    "    elif magType in moment:\n",
    "        return 5\n",
    "    elif magType in energy:\n",
    "        return 6\n",
    "    elif magType in mw:\n",
    "        return 7\n",
    "    else:\n",
    "        return 8\n",
    "    "
   ]
  },
  {
   "cell_type": "code",
   "execution_count": 11,
   "metadata": {
    "collapsed": false
   },
   "outputs": [
    {
     "data": {
      "text/plain": [
       "3    337271\n",
       "1    156982\n",
       "0     94543\n",
       "7     48549\n",
       "8     37633\n",
       "2      7218\n",
       "4      4756\n",
       "6        16\n",
       "Name: magTypeClassified, dtype: int64"
      ]
     },
     "execution_count": 11,
     "metadata": {},
     "output_type": "execute_result"
    }
   ],
   "source": [
    "quakes[\"magTypeClassified\"] =  quakes[\"magType\"].apply(classifyMagType)\n",
    "quakes[\"magTypeClassified\"].value_counts()"
   ]
  },
  {
   "cell_type": "markdown",
   "metadata": {},
   "source": [
    "We were able to increase our score by 4 percent by adding magTypeClassified"
   ]
  },
  {
   "cell_type": "code",
   "execution_count": 12,
   "metadata": {
    "collapsed": false
   },
   "outputs": [
    {
     "data": {
      "text/plain": [
       "0.84596080166761767"
      ]
     },
     "execution_count": 12,
     "metadata": {},
     "output_type": "execute_result"
    }
   ],
   "source": [
    "predictors = [\"latitude\", \"longitude\", \"depth\", \"magTypeClassified\"]\n",
    "X_train, X_test, y_train, y_test = train_test_split(quakes[predictors], quakes.magClassified, train_size=.5)\n",
    "alg.fit(X_train, y_train)\n",
    "alg.score(X_test, y_test)"
   ]
  },
  {
   "cell_type": "markdown",
   "metadata": {},
   "source": [
    "Time is definitely an important variable for our model so we decided to add year month and hour column to see if it will help our model predict better."
   ]
  },
  {
   "cell_type": "code",
   "execution_count": 13,
   "metadata": {
    "collapsed": false
   },
   "outputs": [],
   "source": [
    "def parse_date(Dates):\n",
    "    return int(Dates[0:4]), int(Dates[5:7]), int(Dates[8:10]), int(Dates[11:13])"
   ]
  },
  {
   "cell_type": "code",
   "execution_count": 14,
   "metadata": {
    "collapsed": true
   },
   "outputs": [],
   "source": [
    "quakes[\"year\"] = quakes.time.apply(lambda x: parse_date(x)[0])\n",
    "quakes[\"month\"] = quakes.time.apply(lambda x: parse_date(x)[1])\n",
    "quakes[\"hour\"] = quakes.time.apply(lambda x: parse_date(x)[3])"
   ]
  },
  {
   "cell_type": "markdown",
   "metadata": {},
   "source": [
    "Adding time variables increased our performance by 3 percent"
   ]
  },
  {
   "cell_type": "code",
   "execution_count": 15,
   "metadata": {
    "collapsed": false
   },
   "outputs": [
    {
     "data": {
      "text/plain": [
       "0.85726263814326142"
      ]
     },
     "execution_count": 15,
     "metadata": {},
     "output_type": "execute_result"
    }
   ],
   "source": [
    "predictors = [\"latitude\", \"longitude\", \"depth\", \"magTypeClassified\", \"year\", \"month\",\"hour\"]\n",
    "X_train, X_test, y_train, y_test = train_test_split(quakes[predictors], quakes.magClassified, train_size=.5)\n",
    "alg.fit(X_train, y_train)\n",
    "alg.score(X_test, y_test)"
   ]
  },
  {
   "cell_type": "code",
   "execution_count": 16,
   "metadata": {
    "collapsed": false
   },
   "outputs": [
    {
     "name": "stdout",
     "output_type": "stream",
     "text": [
      "Milas Hall, Olin Way, Needham, Norfolk County, Massachusetts, 02492-1200, United States of America\n"
     ]
    }
   ],
   "source": [
    "from geopy.geocoders import Nominatim\n",
    "\n",
    "geolocator = Nominatim()\n",
    "# location = geolocator.reverse(\"-6.0326, 103.7117\")\n",
    "location = geolocator.reverse(\"42.2926850,-71.2644100\")\n",
    "print location.address"
   ]
  },
  {
   "cell_type": "code",
   "execution_count": 17,
   "metadata": {
    "collapsed": false
   },
   "outputs": [
    {
     "data": {
      "text/plain": [
       "False    674520\n",
       "True      12448\n",
       "Name: fault, dtype: int64"
      ]
     },
     "execution_count": 17,
     "metadata": {},
     "output_type": "execute_result"
    }
   ],
   "source": [
    "quakes[\"fault\"] = quakes.place.apply(lambda x: True if \"Ridge\" in str(x).split() else False)\n",
    "quakes.fault.value_counts()\n"
   ]
  },
  {
   "cell_type": "code",
   "execution_count": 18,
   "metadata": {
    "collapsed": false
   },
   "outputs": [
    {
     "name": "stdout",
     "output_type": "stream",
     "text": [
      "[ 0.98947368  0.01052632  0.          0.          0.          0.        ]\n"
     ]
    }
   ],
   "source": [
    "predicted = np.array(alg.predict_proba(X_test))\n",
    "\n",
    "print predicted[0]"
   ]
  },
  {
   "cell_type": "code",
   "execution_count": 21,
   "metadata": {
    "collapsed": false
   },
   "outputs": [
    {
     "data": {
      "text/plain": [
       "<matplotlib.axes._subplots.AxesSubplot at 0x7f2800877d10>"
      ]
     },
     "execution_count": 21,
     "metadata": {},
     "output_type": "execute_result"
    },
    {
     "data": {
      "image/png": "[encoded data removed]",
      "text/plain": [
       "<matplotlib.figure.Figure at 0x7f28006dcb90>"
      ]
     },
     "metadata": {},
     "output_type": "display_data"
    }
   ],
   "source": [
    "sns.plt.figure(figsize=(10,10))\n",
    "all_probs = np.zeros((6, 7))\n",
    "for i in range(7):\n",
    "    x = np.zeros((1,len(predictors)))\n",
    "    x[0,i] = 1.0\n",
    "    all_probs[:,i] = alg.predict_proba(x)\n",
    "sns.heatmap(all_probs, xticklabels=predictors)"
   ]
  },
  {
   "cell_type": "code",
   "execution_count": 36,
   "metadata": {
    "collapsed": false
   },
   "outputs": [
    {
     "name": "stdout",
     "output_type": "stream",
     "text": [
      "[mean: 0.85563, std: 0.00077, params: {'min_samples_split': 1}, mean: 0.85563, std: 0.00077, params: {'min_samples_split': 2}, mean: 0.85563, std: 0.00077, params: {'min_samples_split': 3}, mean: 0.85563, std: 0.00077, params: {'min_samples_split': 4}, mean: 0.85563, std: 0.00077, params: {'min_samples_split': 5}, mean: 0.85563, std: 0.00077, params: {'min_samples_split': 6}, mean: 0.85563, std: 0.00077, params: {'min_samples_split': 7}, mean: 0.85563, std: 0.00077, params: {'min_samples_split': 8}, mean: 0.85563, std: 0.00077, params: {'min_samples_split': 9}, mean: 0.85563, std: 0.00077, params: {'min_samples_split': 10}]\n"
     ]
    }
   ],
   "source": [
    "from sklearn.grid_search import GridSearchCV\n",
    "\n",
    "parameters = [{'min_samples_split': np.arange(1,11)}]\n",
    "model = RandomForestClassifier(random_state=1, n_estimators=10, min_samples_leaf=8)\n",
    "\n",
    "predictors = [\"latitude\", \"longitude\", \"depth\", \"magTypeClassified\", \"year\", \"month\",\"hour\"]\n",
    "X_train, X_test, y_train, y_test = train_test_split(quakes[predictors], quakes.magClassified, train_size=.5)\n",
    "# model.fit(X_train, y_train)\n",
    "# model.score(X_test, y_test)\n",
    "\n",
    "clf = GridSearchCV(model, parameters)\n",
    "clf.fit(X_train, y_train)\n",
    "\n",
    "print clf.grid_scores_"
   ]
  },
  {
   "cell_type": "code",
   "execution_count": 39,
   "metadata": {
    "collapsed": false
   },
   "outputs": [
    {
     "name": "stdout",
     "output_type": "stream",
     "text": [
      "[mean: 0.84924, std: 0.00067, params: {'min_samples_leaf': 1}, mean: 0.85107, std: 0.00026, params: {'min_samples_leaf': 2}, mean: 0.85379, std: 0.00035, params: {'min_samples_leaf': 3}, mean: 0.85455, std: 0.00041, params: {'min_samples_leaf': 4}, mean: 0.85560, std: 0.00030, params: {'min_samples_leaf': 5}, mean: 0.85539, std: 0.00018, params: {'min_samples_leaf': 6}, mean: 0.85559, std: 0.00012, params: {'min_samples_leaf': 7}, mean: 0.85543, std: 0.00020, params: {'min_samples_leaf': 8}, mean: 0.85598, std: 0.00057, params: {'min_samples_leaf': 9}, mean: 0.85571, std: 0.00018, params: {'min_samples_leaf': 10}]\n"
     ]
    },
    {
     "data": {
      "image/png": "[encoded data removed]",
      "text/plain": [
       "<matplotlib.figure.Figure at 0x7f2801ae6e90>"
      ]
     },
     "metadata": {},
     "output_type": "display_data"
    }
   ],
   "source": [
    "from sklearn.grid_search import GridSearchCV\n",
    "\n",
    "parameters = [{'min_samples_leaf': np.arange(1,11)}]\n",
    "model = RandomForestClassifier(random_state=1, n_estimators=10, min_samples_split=4, min_samples_leaf=8)\n",
    "\n",
    "predictors = [\"latitude\", \"longitude\", \"depth\", \"magTypeClassified\", \"year\", \"month\",\"hour\"]\n",
    "X_train, X_test, y_train, y_test = train_test_split(quakes[predictors], quakes.magClassified, train_size=.5)\n",
    "# model.fit(X_train, y_train)\n",
    "# model.score(X_test, y_test)\n",
    "\n",
    "clf = GridSearchCV(model, parameters)\n",
    "clf.fit(X_train, y_train)\n",
    "\n",
    "print clf.grid_scores_\n",
    "\n",
    "res = zip(*[(f1m, f1s.std(), p['min_samples_leaf']) \n",
    "            for p, f1m, f1s in clf.grid_scores_])\n",
    "\n",
    "plt.subplot(2,1,1)\n",
    "plt.plot(res[2],res[0],'-o')\n",
    "plt.subplot(2,1,2)\n",
    "plt.plot(res[2],res[1],'-o')\n",
    "plt.show()"
   ]
  },
  {
   "cell_type": "code",
   "execution_count": 40,
   "metadata": {
    "collapsed": false
   },
   "outputs": [
    {
     "name": "stdout",
     "output_type": "stream",
     "text": [
      "{'min_samples_leaf': 9}\n"
     ]
    }
   ],
   "source": [
    "print clf.best_params_"
   ]
  },
  {
   "cell_type": "code",
   "execution_count": null,
   "metadata": {
    "collapsed": true
   },
   "outputs": [],
   "source": []
  },
  {
   "cell_type": "code",
   "execution_count": null,
   "metadata": {
    "collapsed": true
   },
   "outputs": [],
   "source": []
  }
 ],
 "metadata": {
  "kernelspec": {
   "display_name": "Python 2",
   "language": "python",
   "name": "python2"
  },
  "language_info": {
   "codemirror_mode": {
    "name": "ipython",
    "version": 2
   },
   "file_extension": ".py",
   "mimetype": "text/x-python",
   "name": "python",
   "nbconvert_exporter": "python",
   "pygments_lexer": "ipython2",
   "version": "2.7.10"
  }
 },
 "nbformat": 4,
 "nbformat_minor": 0
}
