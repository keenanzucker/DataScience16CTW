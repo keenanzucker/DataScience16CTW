{
 "cells": [
  {
   "cell_type": "code",
   "execution_count": 1,
   "metadata": {
    "collapsed": false
   },
   "outputs": [
    {
     "name": "stdout",
     "output_type": "stream",
     "text": [
      "                       time  latitude  longitude  depth  mag magType  nst  \\\n",
      "0  2016-02-27T21:34:40.450Z   36.6381   -97.7400   2.47  2.8   mb_lg  NaN   \n",
      "1  2016-02-27T21:29:43.370Z  -51.7820   139.5587  10.00  5.9      mb  NaN   \n",
      "2  2016-02-27T21:02:37.710Z   36.4399   -98.7187   9.82  3.4   mb_lg  NaN   \n",
      "3  2016-02-27T21:02:12.340Z   36.4662   -98.7378   8.22  3.2   mb_lg  NaN   \n",
      "4  2016-02-27T19:22:58.400Z   19.1644   -64.8414  66.00  3.4      Md   11   \n",
      "\n",
      "     gap       dmin   rms    ...                      updated  \\\n",
      "0   43.0   0.222000  0.23    ...     2016-02-27T22:17:59.857Z   \n",
      "1   44.0  10.314000  0.64    ...     2016-02-27T22:12:11.000Z   \n",
      "2   29.0   0.022000  0.94    ...     2016-02-27T22:00:53.496Z   \n",
      "3   39.0   0.012000  0.72    ...     2016-02-27T21:40:40.018Z   \n",
      "4  273.6   0.772551  0.25    ...     2016-02-27T19:49:59.069Z   \n",
      "\n",
      "                                           place        type horizontalError  \\\n",
      "0                    18km S of Medford, Oklahoma  earthquake             0.8   \n",
      "1                 Western Indian-Antarctic Ridge  earthquake             8.3   \n",
      "2                  28km NW of Fairview, Oklahoma  earthquake             4.0   \n",
      "3                  31km NW of Fairview, Oklahoma  earthquake             4.5   \n",
      "4  86km NNW of Road Town, British Virgin Islands  earthquake             3.6   \n",
      "\n",
      "  depthError  magError  magNst    status  locationSource magSource  \n",
      "0        7.8     0.090      32  reviewed              us        us  \n",
      "1        1.8     0.055     121  reviewed              us        us  \n",
      "2        4.3     0.056      82  reviewed              us        us  \n",
      "3        5.7     0.059      75  reviewed              us        us  \n",
      "4        6.5     0.000       5  reviewed              pr        pr  \n",
      "\n",
      "[5 rows x 22 columns]\n"
     ]
    }
   ],
   "source": [
    "import pandas as pd\n",
    "import numpy as np\n",
    "import matplotlib.pyplot as plt\n",
    "import seaborn as sns\n",
    "%matplotlib inline\n",
    "\n",
    "quakes = pd.read_csv(\"./data/query1.csv\")\n",
    "\n",
    "print quakes.head()\n",
    "\n"
   ]
  },
  {
   "cell_type": "code",
   "execution_count": null,
   "metadata": {
    "collapsed": true
   },
   "outputs": [],
   "source": [
    "from sklearn import preprocessing\n",
    "from sklearn.cross_validation import train_test_split\n",
    "\n"
   ]
  },
  {
   "cell_type": "code",
   "execution_count": null,
   "metadata": {
    "collapsed": true
   },
   "outputs": [],
   "source": []
  },
  {
   "cell_type": "code",
   "execution_count": null,
   "metadata": {
    "collapsed": true
   },
   "outputs": [],
   "source": []
  },
  {
   "cell_type": "code",
   "execution_count": null,
   "metadata": {
    "collapsed": true
   },
   "outputs": [],
   "source": []
  }
 ],
 "metadata": {
  "kernelspec": {
   "display_name": "Python 2",
   "language": "python",
   "name": "python2"
  },
  "language_info": {
   "codemirror_mode": {
    "name": "ipython",
    "version": 2
   },
   "file_extension": ".py",
   "mimetype": "text/x-python",
   "name": "python",
   "nbconvert_exporter": "python",
   "pygments_lexer": "ipython2",
   "version": "2.7.10"
  }
 },
 "nbformat": 4,
 "nbformat_minor": 0
}
