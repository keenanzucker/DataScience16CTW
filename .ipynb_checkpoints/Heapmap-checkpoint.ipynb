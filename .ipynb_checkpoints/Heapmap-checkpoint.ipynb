{
 "cells": [
  {
   "cell_type": "markdown",
   "metadata": {},
   "source": [
    "# Model Iteration 2 -- Earthquake Dataset\n",
    "\n",
    "Keenan and James"
   ]
  },
  {
   "cell_type": "code",
   "execution_count": 16,
   "metadata": {
    "collapsed": false
   },
   "outputs": [
    {
     "name": "stdout",
     "output_type": "stream",
     "text": [
      "                       time  latitude  longitude  depth  mag magType  nst  \\\n",
      "0  1901-08-09T18:33:00.000Z        40        144      0  7.5      mw  NaN   \n",
      "1  1901-08-09T13:01:00.000Z       -22        170      0  7.9      mw  NaN   \n",
      "2  1902-04-19T02:23:00.000Z        14        -91      0  7.5      mw  NaN   \n",
      "3  1902-09-23T20:18:00.000Z        16        -93      0  7.8      mw  NaN   \n",
      "4  1902-09-22T01:46:00.000Z        18        146      0  7.5      mw  NaN   \n",
      "\n",
      "   gap  dmin  rms    ...                      updated  \\\n",
      "0  NaN   NaN  NaN    ...     2015-05-13T18:52:41.000Z   \n",
      "1  NaN   NaN  NaN    ...     2015-05-13T18:52:41.000Z   \n",
      "2  NaN   NaN  NaN    ...     2015-05-13T18:52:41.000Z   \n",
      "3  NaN   NaN  NaN    ...     2015-05-13T18:52:41.000Z   \n",
      "4  NaN   NaN  NaN    ...     2015-05-13T18:52:41.000Z   \n",
      "\n",
      "                                       place        type horizontalError  \\\n",
      "0        off the east coast of Honshu, Japan  earthquake             NaN   \n",
      "1           southeast of the Loyalty Islands  earthquake             NaN   \n",
      "2                                  Guatemala  earthquake             NaN   \n",
      "3                            Chiapas, Mexico  earthquake             NaN   \n",
      "4  Alamagan region, Northern Mariana Islands  earthquake             NaN   \n",
      "\n",
      "  depthError  magError  magNst     status  locationSource magSource  \n",
      "0        NaN       NaN     NaN  automatic          iscgem    iscgem  \n",
      "1        NaN       NaN     NaN  automatic          iscgem    iscgem  \n",
      "2        NaN       NaN     NaN  automatic          iscgem    iscgem  \n",
      "3        NaN       NaN     NaN  automatic          iscgem    iscgem  \n",
      "4        NaN       NaN     NaN  automatic          iscgem    iscgem  \n",
      "\n",
      "[5 rows x 22 columns]\n"
     ]
    }
   ],
   "source": [
    "import pandas as pd\n",
    "import numpy as np\n",
    "import matplotlib.pyplot as plt\n",
    "import seaborn as sns\n",
    "from sklearn import cross_validation\n",
    "from sklearn.cross_validation import train_test_split\n",
    "from sklearn.ensemble import RandomForestClassifier, GradientBoostingClassifier\n",
    "from sklearn.linear_model import LinearRegression, LogisticRegression, LogisticRegressionCV\n",
    "\n",
    "import re\n",
    "\n",
    "%matplotlib inline\n",
    "\n",
    "quakes = pd.read_csv(\"./data/data.csv\")\n",
    "\n",
    "print quakes.head()"
   ]
  },
  {
   "cell_type": "markdown",
   "metadata": {},
   "source": [
    "We wrote some helper functions that will help us test the progress we have made in the models quickly."
   ]
  },
  {
   "cell_type": "code",
   "execution_count": 17,
   "metadata": {
    "collapsed": false
   },
   "outputs": [],
   "source": [
    "from sklearn.cross_validation import train_test_split\n",
    "\n",
    "def cross_validate(model, X, y, cv=3):\n",
    "    return cross_validation.cross_val_score(model, X, y, cv=cv).mean()\n",
    "\n",
    "def train_test_splitter(model, X, y, train_size=0.5):\n",
    "    X_train, X_test, y_train, y_test = train_test_split(X, y, train_size=train_size)\n",
    "    model.fit(X_train, y_train)\n",
    "    return X_train, X_test, y_train, y_test, model"
   ]
  },
  {
   "cell_type": "markdown",
   "metadata": {},
   "source": [
    "### Features"
   ]
  },
  {
   "cell_type": "code",
   "execution_count": 18,
   "metadata": {
    "collapsed": true
   },
   "outputs": [],
   "source": [
    "def magclassify(mag):\n",
    "    if mag < 4:\n",
    "        return 0\n",
    "    elif mag < 5:\n",
    "        return 1\n",
    "    elif mag < 6:\n",
    "        return 2\n",
    "    elif mag < 7:\n",
    "        return 3\n",
    "    elif mag < 8:\n",
    "        return 4\n",
    "    elif mag >= 8:\n",
    "        return 5\n",
    "# \"minor\" \"light\" \"moderate\" \"strong\" \"major\" \"great\"   \n",
    "\n",
    "def classifyMagType(magType):\n",
    "    duration = [\"Md\", \"md\"]\n",
    "    local = [\"ml\"]\n",
    "    shortPS = [\"mb_lg\", \"lg\", \"mblg\"]\n",
    "    shortPeriodWave = [\"mb\"]\n",
    "    twenty = [\"ms\", \"ms_20\"]\n",
    "    moment = [\"mi\", \"mwp\"]\n",
    "    energy = [\"me\"]\n",
    "    \n",
    "    mw = [\"mw\", \"mwb\", \"mwc\",\"mwr\",\"mww\"]\n",
    "    magType = str(magType).lower()\n",
    "    if magType in duration:\n",
    "        return 0\n",
    "    elif magType in local:\n",
    "        return 1\n",
    "    elif magType in shortPS:\n",
    "        return 2\n",
    "    elif magType in shortPeriodWave:\n",
    "        return 3\n",
    "    elif magType in twenty:\n",
    "        return 4\n",
    "    elif magType in moment:\n",
    "        return 5\n",
    "    elif magType in energy:\n",
    "        return 6\n",
    "    elif magType in mw:\n",
    "        return 7\n",
    "    else:\n",
    "        return 8    \n",
    "    \n",
    "def parse_date(Dates):\n",
    "    return int(Dates[0:4]), int(Dates[5:7]), int(Dates[8:10]), int(Dates[11:13])"
   ]
  },
  {
   "cell_type": "code",
   "execution_count": 19,
   "metadata": {
    "collapsed": true
   },
   "outputs": [],
   "source": [
    "def add_features():\n",
    "    quakes[\"magClassified\"] = quakes[\"mag\"].apply(magclassify)\n",
    "    quakes[\"depth\"] = quakes[\"depth\"].fillna(quakes[\"depth\"].median())\n",
    "    quakes[\"magTypeClassified\"] =  quakes[\"magType\"].apply(classifyMagType)\n",
    "    quakes[\"year\"] = quakes.time.apply(lambda x: parse_date(x)[0])\n",
    "    quakes[\"month\"] = quakes.time.apply(lambda x: parse_date(x)[1])\n",
    "    quakes[\"hour\"] = quakes.time.apply(lambda x: parse_date(x)[3])"
   ]
  },
  {
   "cell_type": "code",
   "execution_count": 20,
   "metadata": {
    "collapsed": false
   },
   "outputs": [],
   "source": [
    "add_features()"
   ]
  },
  {
   "cell_type": "code",
   "execution_count": 21,
   "metadata": {
    "collapsed": false
   },
   "outputs": [
    {
     "data": {
      "text/plain": [
       "0.78438879249106219"
      ]
     },
     "execution_count": 21,
     "metadata": {},
     "output_type": "execute_result"
    }
   ],
   "source": [
    "logistic = LogisticRegression()\n",
    "alg = RandomForestClassifier(random_state=1, n_estimators=10, min_samples_split=4, min_samples_leaf=8)\n",
    "predictors = [\"latitude\", \"longitude\", \"depth\"]\n",
    "X_train, X_test, y_train, y_test = train_test_split(quakes[predictors], quakes.magClassified, train_size=.5)\n",
    "alg.fit(X_train, y_train)\n",
    "alg.score(X_test, y_test)"
   ]
  },
  {
   "cell_type": "code",
   "execution_count": 22,
   "metadata": {
    "collapsed": false
   },
   "outputs": [
    {
     "data": {
      "text/plain": [
       "0.85702099661119591"
      ]
     },
     "execution_count": 22,
     "metadata": {},
     "output_type": "execute_result"
    }
   ],
   "source": [
    "predictors = [\"latitude\", \"longitude\", \"depth\", \"magTypeClassified\", \"year\", \"month\",\"hour\"]\n",
    "X_train, X_test, y_train, y_test = train_test_split(quakes[predictors], quakes.magClassified, train_size=.5)\n",
    "alg.fit(X_train, y_train)\n",
    "alg.score(X_test, y_test)"
   ]
  },
  {
   "cell_type": "code",
   "execution_count": 26,
   "metadata": {
    "collapsed": false
   },
   "outputs": [
    {
     "data": {
      "text/plain": [
       "0.80518743231125756"
      ]
     },
     "execution_count": 26,
     "metadata": {},
     "output_type": "execute_result"
    }
   ],
   "source": [
    "predictors = [\"latitude\", \"longitude\", \"year\", \"month\",\"hour\"]\n",
    "X_train, X_test, y_train, y_test = train_test_split(quakes[predictors], quakes.magClassified, train_size=.5)\n",
    "alg.fit(X_train, y_train)\n",
    "alg.score(X_test, y_test)"
   ]
  },
  {
   "cell_type": "code",
   "execution_count": 27,
   "metadata": {
    "collapsed": false
   },
   "outputs": [
    {
     "name": "stdout",
     "output_type": "stream",
     "text": [
      "(343484, 6)\n"
     ]
    }
   ],
   "source": [
    "predicted = np.array(alg.predict_proba(X_test))\n",
    "\n",
    "print predicted.shape"
   ]
  },
  {
   "cell_type": "code",
   "execution_count": 60,
   "metadata": {
    "collapsed": false
   },
   "outputs": [],
   "source": [
    "lat = 42.2926850\n",
    "lon = -71.2644100\n",
    "year = 2016\n",
    "month = 3\n",
    "hour = 10\n",
    "\n",
    "quakeCenter = [lat, lon]\n",
    "time = [year, month, hour]\n"
   ]
  },
  {
   "cell_type": "markdown",
   "metadata": {},
   "source": [
    "The fifth decimal place is worth up to 1.1 m: it distinguish trees from each other. Accuracy to this level with commercial GPS units can only be achieved with differential correction."
   ]
  },
  {
   "cell_type": "code",
   "execution_count": 224,
   "metadata": {
    "collapsed": false
   },
   "outputs": [
    {
     "name": "stdout",
     "output_type": "stream",
     "text": [
      "[[(-72.0, 41.0), (-71.0, 41.0), (-70.0, 41.0), (-69.0, 41.0), (-68.0, 41.0)], [(-72.0, 42.0), (-71.0, 42.0), (-70.0, 42.0), (-69.0, 42.0), (-68.0, 42.0)], [(-72.0, 43.0), (-71.0, 43.0), (-70.0, 43.0), (-69.0, 43.0), (-68.0, 43.0)], [(-72.0, 44.0), (-71.0, 44.0), (-70.0, 44.0), (-69.0, 44.0), (-68.0, 44.0)], [(-72.0, 45.0), (-71.0, 45.0), (-70.0, 45.0), (-69.0, 45.0), (-68.0, 45.0)]]\n"
     ]
    }
   ],
   "source": [
    "lat = 42.00000\n",
    "lon = -71.00000\n",
    "\n",
    "center = [lon, lat]\n",
    "\n",
    "def point_grid(center, size):\n",
    "    points = []\n",
    "    for i in range(0,size/2):\n",
    "        center[0] -= 1\n",
    "        center[1] -= 1\n",
    "    Matrix = [[0 for x in range(size)] for x in range(size)] \n",
    "    \n",
    "    for i in range(1,size + 1):\n",
    "        for j in range(1, size + 1):\n",
    "            Matrix[i-1][j-1] = ((center[0] + 1*j), (center[1] + 1*i))\n",
    "\n",
    "    return Matrix\n",
    "    \n",
    "print point_grid(center, 5)\n"
   ]
  },
  {
   "cell_type": "code",
   "execution_count": null,
   "metadata": {
    "collapsed": false
   },
   "outputs": [],
   "source": []
  },
  {
   "cell_type": "code",
   "execution_count": 231,
   "metadata": {
    "collapsed": false
   },
   "outputs": [
    {
     "name": "stdout",
     "output_type": "stream",
     "text": [
      "[[(-123.119904, 36.352693), (-122.119904, 36.352693), (-121.119904, 36.352693), (-120.119904, 36.352693), (-119.119904, 36.352693)], [(-123.119904, 37.352693), (-122.119904, 37.352693), (-121.119904, 37.352693), (-120.119904, 37.352693), (-119.119904, 37.352693)], [(-123.119904, 38.352693), (-122.119904, 38.352693), (-121.119904, 38.352693), (-120.119904, 38.352693), (-119.119904, 38.352693)], [(-123.119904, 39.352693), (-122.119904, 39.352693), (-121.119904, 39.352693), (-120.119904, 39.352693), (-119.119904, 39.352693)], [(-123.119904, 40.352693), (-122.119904, 40.352693), (-121.119904, 40.352693), (-120.119904, 40.352693), (-119.119904, 40.352693)]]\n",
      "[[1, 1, 1, 1, 1], [1, 1, 1, 1, 1], [1, 1, 1, 1, 1], [1, 1, 1, 1, 1], [1, 1, 1, 1, 1]]\n"
     ]
    },
    {
     "name": "stderr",
     "output_type": "stream",
     "text": [
      "/home/keenan/anaconda2/lib/python2.7/site-packages/sklearn/utils/validation.py:386: DeprecationWarning: Passing 1d arrays as data is deprecated in 0.17 and willraise ValueError in 0.19. Reshape your data either using X.reshape(-1, 1) if your data has a single feature or X.reshape(1, -1) if it contains a single sample.\n",
      "  DeprecationWarning)\n",
      "/home/keenan/anaconda2/lib/python2.7/site-packages/sklearn/utils/validation.py:386: DeprecationWarning: Passing 1d arrays as data is deprecated in 0.17 and willraise ValueError in 0.19. Reshape your data either using X.reshape(-1, 1) if your data has a single feature or X.reshape(1, -1) if it contains a single sample.\n",
      "  DeprecationWarning)\n",
      "/home/keenan/anaconda2/lib/python2.7/site-packages/sklearn/utils/validation.py:386: DeprecationWarning: Passing 1d arrays as data is deprecated in 0.17 and willraise ValueError in 0.19. Reshape your data either using X.reshape(-1, 1) if your data has a single feature or X.reshape(1, -1) if it contains a single sample.\n",
      "  DeprecationWarning)\n",
      "/home/keenan/anaconda2/lib/python2.7/site-packages/sklearn/utils/validation.py:386: DeprecationWarning: Passing 1d arrays as data is deprecated in 0.17 and willraise ValueError in 0.19. Reshape your data either using X.reshape(-1, 1) if your data has a single feature or X.reshape(1, -1) if it contains a single sample.\n",
      "  DeprecationWarning)\n",
      "/home/keenan/anaconda2/lib/python2.7/site-packages/sklearn/utils/validation.py:386: DeprecationWarning: Passing 1d arrays as data is deprecated in 0.17 and willraise ValueError in 0.19. Reshape your data either using X.reshape(-1, 1) if your data has a single feature or X.reshape(1, -1) if it contains a single sample.\n",
      "  DeprecationWarning)\n",
      "/home/keenan/anaconda2/lib/python2.7/site-packages/sklearn/utils/validation.py:386: DeprecationWarning: Passing 1d arrays as data is deprecated in 0.17 and willraise ValueError in 0.19. Reshape your data either using X.reshape(-1, 1) if your data has a single feature or X.reshape(1, -1) if it contains a single sample.\n",
      "  DeprecationWarning)\n",
      "/home/keenan/anaconda2/lib/python2.7/site-packages/sklearn/utils/validation.py:386: DeprecationWarning: Passing 1d arrays as data is deprecated in 0.17 and willraise ValueError in 0.19. Reshape your data either using X.reshape(-1, 1) if your data has a single feature or X.reshape(1, -1) if it contains a single sample.\n",
      "  DeprecationWarning)\n",
      "/home/keenan/anaconda2/lib/python2.7/site-packages/sklearn/utils/validation.py:386: DeprecationWarning: Passing 1d arrays as data is deprecated in 0.17 and willraise ValueError in 0.19. Reshape your data either using X.reshape(-1, 1) if your data has a single feature or X.reshape(1, -1) if it contains a single sample.\n",
      "  DeprecationWarning)\n",
      "/home/keenan/anaconda2/lib/python2.7/site-packages/sklearn/utils/validation.py:386: DeprecationWarning: Passing 1d arrays as data is deprecated in 0.17 and willraise ValueError in 0.19. Reshape your data either using X.reshape(-1, 1) if your data has a single feature or X.reshape(1, -1) if it contains a single sample.\n",
      "  DeprecationWarning)\n",
      "/home/keenan/anaconda2/lib/python2.7/site-packages/sklearn/utils/validation.py:386: DeprecationWarning: Passing 1d arrays as data is deprecated in 0.17 and willraise ValueError in 0.19. Reshape your data either using X.reshape(-1, 1) if your data has a single feature or X.reshape(1, -1) if it contains a single sample.\n",
      "  DeprecationWarning)\n",
      "/home/keenan/anaconda2/lib/python2.7/site-packages/sklearn/utils/validation.py:386: DeprecationWarning: Passing 1d arrays as data is deprecated in 0.17 and willraise ValueError in 0.19. Reshape your data either using X.reshape(-1, 1) if your data has a single feature or X.reshape(1, -1) if it contains a single sample.\n",
      "  DeprecationWarning)\n",
      "/home/keenan/anaconda2/lib/python2.7/site-packages/sklearn/utils/validation.py:386: DeprecationWarning: Passing 1d arrays as data is deprecated in 0.17 and willraise ValueError in 0.19. Reshape your data either using X.reshape(-1, 1) if your data has a single feature or X.reshape(1, -1) if it contains a single sample.\n",
      "  DeprecationWarning)\n",
      "/home/keenan/anaconda2/lib/python2.7/site-packages/sklearn/utils/validation.py:386: DeprecationWarning: Passing 1d arrays as data is deprecated in 0.17 and willraise ValueError in 0.19. Reshape your data either using X.reshape(-1, 1) if your data has a single feature or X.reshape(1, -1) if it contains a single sample.\n",
      "  DeprecationWarning)\n",
      "/home/keenan/anaconda2/lib/python2.7/site-packages/sklearn/utils/validation.py:386: DeprecationWarning: Passing 1d arrays as data is deprecated in 0.17 and willraise ValueError in 0.19. Reshape your data either using X.reshape(-1, 1) if your data has a single feature or X.reshape(1, -1) if it contains a single sample.\n",
      "  DeprecationWarning)\n",
      "/home/keenan/anaconda2/lib/python2.7/site-packages/sklearn/utils/validation.py:386: DeprecationWarning: Passing 1d arrays as data is deprecated in 0.17 and willraise ValueError in 0.19. Reshape your data either using X.reshape(-1, 1) if your data has a single feature or X.reshape(1, -1) if it contains a single sample.\n",
      "  DeprecationWarning)\n",
      "/home/keenan/anaconda2/lib/python2.7/site-packages/sklearn/utils/validation.py:386: DeprecationWarning: Passing 1d arrays as data is deprecated in 0.17 and willraise ValueError in 0.19. Reshape your data either using X.reshape(-1, 1) if your data has a single feature or X.reshape(1, -1) if it contains a single sample.\n",
      "  DeprecationWarning)\n",
      "/home/keenan/anaconda2/lib/python2.7/site-packages/sklearn/utils/validation.py:386: DeprecationWarning: Passing 1d arrays as data is deprecated in 0.17 and willraise ValueError in 0.19. Reshape your data either using X.reshape(-1, 1) if your data has a single feature or X.reshape(1, -1) if it contains a single sample.\n",
      "  DeprecationWarning)\n",
      "/home/keenan/anaconda2/lib/python2.7/site-packages/sklearn/utils/validation.py:386: DeprecationWarning: Passing 1d arrays as data is deprecated in 0.17 and willraise ValueError in 0.19. Reshape your data either using X.reshape(-1, 1) if your data has a single feature or X.reshape(1, -1) if it contains a single sample.\n",
      "  DeprecationWarning)\n",
      "/home/keenan/anaconda2/lib/python2.7/site-packages/sklearn/utils/validation.py:386: DeprecationWarning: Passing 1d arrays as data is deprecated in 0.17 and willraise ValueError in 0.19. Reshape your data either using X.reshape(-1, 1) if your data has a single feature or X.reshape(1, -1) if it contains a single sample.\n",
      "  DeprecationWarning)\n",
      "/home/keenan/anaconda2/lib/python2.7/site-packages/sklearn/utils/validation.py:386: DeprecationWarning: Passing 1d arrays as data is deprecated in 0.17 and willraise ValueError in 0.19. Reshape your data either using X.reshape(-1, 1) if your data has a single feature or X.reshape(1, -1) if it contains a single sample.\n",
      "  DeprecationWarning)\n",
      "/home/keenan/anaconda2/lib/python2.7/site-packages/sklearn/utils/validation.py:386: DeprecationWarning: Passing 1d arrays as data is deprecated in 0.17 and willraise ValueError in 0.19. Reshape your data either using X.reshape(-1, 1) if your data has a single feature or X.reshape(1, -1) if it contains a single sample.\n",
      "  DeprecationWarning)\n",
      "/home/keenan/anaconda2/lib/python2.7/site-packages/sklearn/utils/validation.py:386: DeprecationWarning: Passing 1d arrays as data is deprecated in 0.17 and willraise ValueError in 0.19. Reshape your data either using X.reshape(-1, 1) if your data has a single feature or X.reshape(1, -1) if it contains a single sample.\n",
      "  DeprecationWarning)\n",
      "/home/keenan/anaconda2/lib/python2.7/site-packages/sklearn/utils/validation.py:386: DeprecationWarning: Passing 1d arrays as data is deprecated in 0.17 and willraise ValueError in 0.19. Reshape your data either using X.reshape(-1, 1) if your data has a single feature or X.reshape(1, -1) if it contains a single sample.\n",
      "  DeprecationWarning)\n",
      "/home/keenan/anaconda2/lib/python2.7/site-packages/sklearn/utils/validation.py:386: DeprecationWarning: Passing 1d arrays as data is deprecated in 0.17 and willraise ValueError in 0.19. Reshape your data either using X.reshape(-1, 1) if your data has a single feature or X.reshape(1, -1) if it contains a single sample.\n",
      "  DeprecationWarning)\n",
      "/home/keenan/anaconda2/lib/python2.7/site-packages/sklearn/utils/validation.py:386: DeprecationWarning: Passing 1d arrays as data is deprecated in 0.17 and willraise ValueError in 0.19. Reshape your data either using X.reshape(-1, 1) if your data has a single feature or X.reshape(1, -1) if it contains a single sample.\n",
      "  DeprecationWarning)\n"
     ]
    },
    {
     "data": {
      "image/png": "[encoded data removed]",
      "text/plain": [
       "<matplotlib.figure.Figure at 0x7f0fa6d86d50>"
      ]
     },
     "metadata": {},
     "output_type": "display_data"
    }
   ],
   "source": [
    "lat =37.352693\n",
    "lon = -122.119904\n",
    "center = [lon, lat]\n",
    "\n",
    "# print alg.predict_proba([-122,37,2016,3,10])\n",
    "# print alg.predict_proba([-129,49,2016,3,10])\n",
    "\n",
    "def heatmap(quakesLoc, time):\n",
    "    size = len(quakesLoc[0])\n",
    "    print quakesLoc\n",
    "    Matrix = [[0 for x in range(size)] for x in range(size)] \n",
    "    \n",
    "    for i in range(0,size):\n",
    "        for j in range(0,size):\n",
    "            \n",
    "            point = list(quakesLoc[i][j]) + time\n",
    "            score = alg.predict(point).item(0)\n",
    "            Matrix[i][j] = score\n",
    "            \n",
    "    sns.heatmap(Matrix)\n",
    "\n",
    "    return Matrix\n",
    "    \n",
    "        \n",
    "print heatmap(point_grid(center,5), time)"
   ]
  },
  {
   "cell_type": "code",
   "execution_count": null,
   "metadata": {
    "collapsed": false,
    "scrolled": false
   },
   "outputs": [],
   "source": [
    "\n",
    "\n"
   ]
  },
  {
   "cell_type": "code",
   "execution_count": null,
   "metadata": {
    "collapsed": false
   },
   "outputs": [],
   "source": []
  },
  {
   "cell_type": "code",
   "execution_count": null,
   "metadata": {
    "collapsed": false
   },
   "outputs": [],
   "source": []
  },
  {
   "cell_type": "code",
   "execution_count": null,
   "metadata": {
    "collapsed": false
   },
   "outputs": [],
   "source": []
  },
  {
   "cell_type": "code",
   "execution_count": null,
   "metadata": {
    "collapsed": false
   },
   "outputs": [],
   "source": [
    "# predictors = [\"latitude\", \"longitude\", \"year\", \"month\", \"hour\"]\n",
    "# X_train, X_test, y_train, y_test = train_test_split(quakes[predictors], quakes.magClassified, train_size=.5)\n",
    "# logistic.fit(X_train, y_train)\n",
    "# logistic.score(X_test, y_test)"
   ]
  },
  {
   "cell_type": "code",
   "execution_count": null,
   "metadata": {
    "collapsed": false
   },
   "outputs": [],
   "source": []
  },
  {
   "cell_type": "code",
   "execution_count": null,
   "metadata": {
    "collapsed": false,
    "scrolled": false
   },
   "outputs": [],
   "source": [
    "# for i in range(100):\n",
    "#     a=  logistic.predict_proba([42.2926850+i,-71.2644100-i, 2016, 3, 12])\n",
    "#     print weighted(a[0])\n",
    "    \n",
    "# def weighted(a):\n",
    "#     s= 0\n",
    "#     for i in range(6):\n",
    "#         s += i *a[i]\n",
    "#     return s/6"
   ]
  },
  {
   "cell_type": "code",
   "execution_count": null,
   "metadata": {
    "collapsed": false
   },
   "outputs": [],
   "source": []
  },
  {
   "cell_type": "code",
   "execution_count": null,
   "metadata": {
    "collapsed": false
   },
   "outputs": [],
   "source": []
  },
  {
   "cell_type": "code",
   "execution_count": null,
   "metadata": {
    "collapsed": false
   },
   "outputs": [],
   "source": []
  },
  {
   "cell_type": "code",
   "execution_count": null,
   "metadata": {
    "collapsed": false
   },
   "outputs": [],
   "source": []
  },
  {
   "cell_type": "code",
   "execution_count": null,
   "metadata": {
    "collapsed": false
   },
   "outputs": [],
   "source": []
  },
  {
   "cell_type": "code",
   "execution_count": null,
   "metadata": {
    "collapsed": false
   },
   "outputs": [],
   "source": []
  }
 ],
 "metadata": {
  "kernelspec": {
   "display_name": "Python 2",
   "language": "python",
   "name": "python2"
  },
  "language_info": {
   "codemirror_mode": {
    "name": "ipython",
    "version": 2
   },
   "file_extension": ".py",
   "mimetype": "text/x-python",
   "name": "python",
   "nbconvert_exporter": "python",
   "pygments_lexer": "ipython2",
   "version": "2.7.10"
  }
 },
 "nbformat": 4,
 "nbformat_minor": 0
}
