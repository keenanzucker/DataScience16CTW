{
 "cells": [
  {
   "cell_type": "code",
   "execution_count": 23,
   "metadata": {
    "collapsed": false
   },
   "outputs": [
    {
     "name": "stdout",
     "output_type": "stream",
     "text": [
      "                        time  latitude  longitude  depth  mag magType  nst  \\\n",
      "0  2016-02-27T21:34:40.450Z   36.6381   -97.7400   2.47  2.8   mb_lg  NaN   \n",
      "1  2016-02-27T21:29:43.370Z  -51.7820   139.5587  10.00  5.9      mb  NaN   \n",
      "2  2016-02-27T21:02:37.710Z   36.4399   -98.7187   9.82  3.4   mb_lg  NaN   \n",
      "3  2016-02-27T21:02:12.340Z   36.4662   -98.7378   8.22  3.2   mb_lg  NaN   \n",
      "4  2016-02-27T19:22:58.400Z   19.1644   -64.8414  66.00  3.4      Md   11   \n",
      "\n",
      "     gap       dmin   rms    ...                      updated  \\\n",
      "0   43.0   0.222000  0.23    ...     2016-02-27T22:17:59.857Z   \n",
      "1   44.0  10.314000  0.64    ...     2016-02-27T22:12:11.000Z   \n",
      "2   29.0   0.022000  0.94    ...     2016-02-27T22:00:53.496Z   \n",
      "3   39.0   0.012000  0.72    ...     2016-02-27T21:40:40.018Z   \n",
      "4  273.6   0.772551  0.25    ...     2016-02-27T19:49:59.069Z   \n",
      "\n",
      "                                           place        type horizontalError  \\\n",
      "0                    18km S of Medford, Oklahoma  earthquake             0.8   \n",
      "1                 Western Indian-Antarctic Ridge  earthquake             8.3   \n",
      "2                  28km NW of Fairview, Oklahoma  earthquake             4.0   \n",
      "3                  31km NW of Fairview, Oklahoma  earthquake             4.5   \n",
      "4  86km NNW of Road Town, British Virgin Islands  earthquake             3.6   \n",
      "\n",
      "  depthError  magError  magNst    status  locationSource magSource  \n",
      "0        7.8     0.090      32  reviewed              us        us  \n",
      "1        1.8     0.055     121  reviewed              us        us  \n",
      "2        4.3     0.056      82  reviewed              us        us  \n",
      "3        5.7     0.059      75  reviewed              us        us  \n",
      "4        6.5     0.000       5  reviewed              pr        pr  \n",
      "\n",
      "[5 rows x 22 columns]\n"
     ]
    }
   ],
   "source": [
    "import pandas as pd\n",
    "import numpy as np\n",
    "import matplotlib.pyplot as plt\n",
    "import seaborn as sns\n",
    "%matplotlib inline\n",
    "\n",
    "quakes = pd.read_csv(\"./data/query1.csv\")\n",
    "\n",
    "print quakes.head()"
   ]
  },
  {
   "cell_type": "code",
   "execution_count": 24,
   "metadata": {
    "collapsed": false
   },
   "outputs": [
    {
     "name": "stdout",
     "output_type": "stream",
     "text": [
      "        latitude   longitude     depth  mag\n",
      "0      36.638100  -97.740000    2.4700   30\n",
      "1     -51.782000  139.558700   10.0000  174\n",
      "2      36.439900  -98.718700    9.8200   89\n",
      "3      36.466200  -98.737800    8.2200   70\n",
      "4      19.164400  -64.841400   66.0000   89\n",
      "5      19.221500  -64.848000   20.0000    0\n",
      "6      32.686501 -115.738167   10.1300   69\n",
      "7      19.328100  -64.744500   34.0000    0\n",
      "8     -17.982300 -178.457000  549.5000  166\n",
      "9      36.525500  -98.998900   14.8700   40\n",
      "10     61.987400 -152.089400  109.7000   30\n",
      "11     38.789833 -122.777664    3.1700   28\n",
      "12     36.463800  -98.749900    5.4400    0\n",
      "13     54.805000 -161.622900   70.5000   10\n",
      "14     38.936400  142.565300   23.7700  162\n",
      "15    -40.554700  176.884900   41.4900  156\n",
      "16     17.829000  -66.015900   16.0000   20\n",
      "17     18.095100  -66.287800   15.0000    0\n",
      "18     19.215200  -64.795500   52.0000   50\n",
      "19     31.179833 -115.946667   -0.0400   86\n",
      "20     37.382168 -118.588333   15.5900   26\n",
      "21     18.333100  145.947900  136.8600  156\n",
      "22     19.304000  -66.240300   56.0000   70\n",
      "23     19.158500  -64.603500   84.0000   89\n",
      "24     36.297800  -97.531300    5.0000   89\n",
      "25     36.286000  -97.520100    2.1400  139\n",
      "26      3.637700  124.482500  319.9600  158\n",
      "27      4.567800  -32.618700   10.0000  164\n",
      "28     22.337300  121.198400   13.7100  156\n",
      "29      4.482700  -32.664900   10.0000  170\n",
      "...          ...         ...       ...  ...\n",
      "20046  54.354000 -161.535000   12.4000   50\n",
      "20047  19.106500  -66.376900   34.0000   30\n",
      "20048  54.331000 -161.521000    4.9000   30\n",
      "20049 -58.626700  -25.259700   63.3600  162\n",
      "20050 -58.737600  -25.589700   49.8000  150\n",
      "20051  -4.777700  152.573600   57.8800  154\n",
      "20052 -58.766500  -25.122400   55.8700  162\n",
      "20053  35.494100  -97.243800    6.4870    0\n",
      "20054  36.020333 -117.369833    6.4100    9\n",
      "20055 -20.920300 -178.795000  615.3600  154\n",
      "20056  58.955800 -152.108300   56.8000   10\n",
      "20057  37.314400 -114.643800    7.1055   56\n",
      "20058  54.303500 -161.492700   33.2800  158\n",
      "20059  54.282000 -161.477000   36.7000   80\n",
      "20060 -58.555300  -25.405200   35.0000  150\n",
      "20061  19.048500  -66.345000   10.0000   40\n",
      "20062  37.360400 -114.595800    8.5243   67\n",
      "20063  37.321500 -114.595500    6.0281   12\n",
      "20064  31.291900  130.460800  152.2200  160\n",
      "20065  31.297667 -115.550833    5.0000  108\n",
      "20066  -6.868100  155.490000   35.0000  154\n",
      "20067  12.776600  -88.575200   59.3600  146\n",
      "20068  -4.848200  152.306900   58.3300  139\n",
      "20069  -0.385200  135.810000   10.0000  162\n",
      "20070 -58.752500  -24.996900   35.0000  150\n",
      "20071 -24.299000  -67.222000  186.0000  146\n",
      "20072 -58.635900  -25.664900   35.0000  150\n",
      "20073 -58.651500  -25.299300   35.0000  150\n",
      "20074 -58.625600  -25.284500   35.0000  142\n",
      "20075  37.330700 -114.590800    8.8594   84\n",
      "\n",
      "[20076 rows x 4 columns]\n"
     ]
    }
   ],
   "source": [
    "from sklearn import preprocessing\n",
    "from sklearn.cross_validation import train_test_split\n",
    "import pandas as pd\n",
    "\n",
    "lats = quakes.latitude\n",
    "longs = quakes.longitude\n",
    "depths = quakes.depth\n",
    "mags = quakes.mag\n",
    "\n",
    "le_mag = preprocessing.LabelEncoder()\n",
    "mags = le_mag.fit_transform(quakes.mag)\n",
    "\n",
    "train_data = pd.concat([lats, longs, depths], axis=1)\n",
    "train_data['mag'] = mags\n",
    "\n",
    "print train_data"
   ]
  },
  {
   "cell_type": "code",
   "execution_count": 47,
   "metadata": {
    "collapsed": false
   },
   "outputs": [
    {
     "name": "stdout",
     "output_type": "stream",
     "text": [
      " Random Forest Log Loss:  24.1995646222\n"
     ]
    }
   ],
   "source": [
    "from sklearn.metrics import log_loss\n",
    "from sklearn.linear_model import LogisticRegression\n",
    "from sklearn.ensemble import RandomForestClassifier\n",
    "\n",
    "\n",
    "\n",
    "le_mag = preprocessing.LabelEncoder()\n",
    "training, validation = train_test_split(train_data, train_size=.50)\n",
    "\n",
    "features = ['latitude', 'longitude', 'depth']\n",
    "\n",
    "X = training[features]\n",
    "Y = training.mag\n",
    "\n",
    "model = RandomForestClassifier()\n",
    "model.fit(X, Y)\n",
    "predicted = np.array(model.predict_proba(validation[features]))\n",
    "print \"Random Forest Log Loss: \", log_loss(validation['mag'], predicted)\n",
    "\n",
    "\n",
    "\n",
    "\n"
   ]
  },
  {
   "cell_type": "code",
   "execution_count": 81,
   "metadata": {
    "collapsed": false
   },
   "outputs": [
    {
     "name": "stdout",
     "output_type": "stream",
     "text": [
      "Logistic Regression Log Loss:  8.60241684021\n"
     ]
    }
   ],
   "source": [
    "from sklearn.linear_model import LogisticRegression\n",
    "\n",
    "model=LogisticRegression(C=0.01)\n",
    "model.fit(X, Y)\n",
    "predicted = np.array(model.predict_proba(validation[features]))\n",
    "print \"Logistic Regression Log Loss: \", log_loss(validation['mag'], predicted)\n"
   ]
  },
  {
   "cell_type": "code",
   "execution_count": 82,
   "metadata": {
    "collapsed": false
   },
   "outputs": [
    {
     "name": "stdout",
     "output_type": "stream",
     "text": [
      "[[  6.39925084e-03   1.89426138e-46   1.17390268e-52 ...,   1.59051268e-43\n",
      "    2.31632106e-16   3.65406434e-26]\n",
      " [  4.75304399e-03   8.84913512e-39   6.44460498e-44 ...,   4.18312932e-36\n",
      "    9.30349000e-14   7.98556193e-22]\n",
      " [  1.98781031e-02   5.61287002e-04   2.61451772e-04 ...,   6.38974983e-04\n",
      "    1.14019428e-02   4.65417311e-03]\n",
      " ..., \n",
      " [  6.20531652e-02   7.40122554e-10   4.84996767e-11 ...,   1.93854925e-09\n",
      "    1.43838824e-04   2.80144254e-06]\n",
      " [  2.29286200e-02   7.03885270e-10   4.77789152e-11 ...,   2.05613819e-09\n",
      "    1.86934742e-04   3.41122358e-06]\n",
      " [  1.26087712e-01   2.40174968e-06   4.89827257e-07 ...,   2.70290194e-06\n",
      "    9.85682208e-04   1.32219152e-04]]\n"
     ]
    }
   ],
   "source": [
    "print predicted"
   ]
  },
  {
   "cell_type": "code",
   "execution_count": null,
   "metadata": {
    "collapsed": true
   },
   "outputs": [],
   "source": []
  },
  {
   "cell_type": "code",
   "execution_count": null,
   "metadata": {
    "collapsed": true
   },
   "outputs": [],
   "source": []
  }
 ],
 "metadata": {
  "kernelspec": {
   "display_name": "Python 2",
   "language": "python",
   "name": "python2"
  },
  "language_info": {
   "codemirror_mode": {
    "name": "ipython",
    "version": 2
   },
   "file_extension": ".py",
   "mimetype": "text/x-python",
   "name": "python",
   "nbconvert_exporter": "python",
   "pygments_lexer": "ipython2",
   "version": "2.7.10"
  }
 },
 "nbformat": 4,
 "nbformat_minor": 0
}
